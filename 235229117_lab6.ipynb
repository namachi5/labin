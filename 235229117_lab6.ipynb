{
 "cells": [
  {
   "cell_type": "markdown",
   "id": "70141921",
   "metadata": {},
   "source": [
    "# Lab6. Implementation of Map, Filter and Reduce Functions\n",
    "Namasivayam M\n",
    "235229117"
   ]
  },
  {
   "cell_type": "markdown",
   "id": "8b05a411",
   "metadata": {},
   "source": [
    "Question1. Write a program to implement MAP function. Find the square root of a list of\n",
    "numbers [1, 2, 4, 6] using map and sqrt functions. Check the answer against your user\n",
    "defined function mymap()."
   ]
  },
  {
   "cell_type": "code",
   "execution_count": 19,
   "id": "b7253bee",
   "metadata": {},
   "outputs": [
    {
     "name": "stdout",
     "output_type": "stream",
     "text": [
      "Using built-in map and math.sqrt: [1.0, 1.4142135623730951, 2.0, 2.449489742783178]\n"
     ]
    }
   ],
   "source": [
    "import math\n",
    "numbers = [1, 2, 4, 6]\n",
    "re=list(map(math.sqrt,numbers))\n",
    "print( \"Using built-in map and math.sqrt:\",re)\n",
    "      \n"
   ]
  },
  {
   "cell_type": "code",
   "execution_count": 18,
   "id": "9a6614ae",
   "metadata": {},
   "outputs": [
    {
     "name": "stdout",
     "output_type": "stream",
     "text": [
      "Using user-defined mymap and math.sqrt: [1.0, 1.4142135623730951, 2.0, 2.449489742783178]\n"
     ]
    }
   ],
   "source": [
    "import math\n",
    "\n",
    "def mymap(func, iterable):\n",
    "    result = []\n",
    "    for item in iterable:\n",
    "        result.append(func(item))\n",
    "    return result\n",
    "numbers = [1, 2, 4, 6]\n",
    "ymap = mymap(math.sqrt, numbers)\n",
    "print(\"Using user-defined mymap and math.sqrt:\", ymap)\n"
   ]
  },
  {
   "cell_type": "markdown",
   "id": "e99fec6f",
   "metadata": {},
   "source": [
    "Question2. Write a program to implement FILTER function. Filter all upper case letters in a\n",
    "list ['x', 'Y', '2', '3', 'Z', ‘b’] using filter function. Check the answer against your user define\n",
    "function myfilter()."
   ]
  },
  {
   "cell_type": "code",
   "execution_count": 20,
   "id": "ede7f4af",
   "metadata": {},
   "outputs": [
    {
     "name": "stdout",
     "output_type": "stream",
     "text": [
      "Using built-in filter and str.isupper: ['Y', 'Z']\n",
      "Using user-defined myfilter and str.isupper: ['Y', 'Z']\n"
     ]
    }
   ],
   "source": [
    "def myfilter(func, iterable):\n",
    "    result = []\n",
    "    for item in iterable:\n",
    "        if func(item):\n",
    "            result.append(item)\n",
    "    return result\n",
    "\n",
    "def main():\n",
    "    characters = ['x', 'Y', '2', '3', 'Z', 'b']\n",
    "\n",
    "    # Using built-in filter and str.isupper\n",
    "    uppercase_using_filter = list(filter(str.isupper, characters))\n",
    "    print(\"Using built-in filter and str.isupper:\", uppercase_using_filter)\n",
    "\n",
    "    # Using user-defined myfilter and str.isupper\n",
    "    uppercase_using_myfilter = myfilter(str.isupper, characters)\n",
    "    print(\"Using user-defined myfilter and str.isupper:\", uppercase_using_myfilter)\n",
    "\n",
    "if __name__ == \"__main__\":\n",
    "    main()\n"
   ]
  },
  {
   "cell_type": "markdown",
   "id": "c88829d3",
   "metadata": {},
   "source": [
    "Question3. Write a program to create a lambda function that takes two characters and\n",
    "concatenates them. Now, apply this function inside REDUCE function that will reduce the list\n",
    "of characters [‘a’, ‘b’, ‘c’, d’] with the intial value ‘x’."
   ]
  },
  {
   "cell_type": "code",
   "execution_count": 21,
   "id": "a29ac79b",
   "metadata": {},
   "outputs": [
    {
     "name": "stdout",
     "output_type": "stream",
     "text": [
      "Reduced result: xabcd\n"
     ]
    }
   ],
   "source": [
    "from functools import reduce\n",
    "\n",
    "# lambda function to concatenate two characters\n",
    "concatenate = lambda x, y: x + y\n",
    "\n",
    "def main():\n",
    "    characters = ['a', 'b', 'c', 'd']\n",
    "    initial_value = 'x'\n",
    "\n",
    "    # Using reduce with the lambda function\n",
    "    result = reduce(concatenate, characters, initial_value)\n",
    "    print(\"Reduced result:\", result)\n",
    "\n",
    "if __name__ == \"__main__\":\n",
    "    main()\n"
   ]
  },
  {
   "cell_type": "markdown",
   "id": "d4a73c62",
   "metadata": {},
   "source": [
    "Question4.Write a Python program, which returns a list with 2-tuples. Each tuple consists of an order\n",
    "number and the product of the price per items and the quantity. The product should be\n",
    "decreased by RS 10 if the value of the order is smaller than RS 100.00. Write a Python\n",
    "program using lambda and map functions."
   ]
  },
  {
   "cell_type": "code",
   "execution_count": 23,
   "id": "1ab16350",
   "metadata": {},
   "outputs": [
    {
     "name": "stdout",
     "output_type": "stream",
     "text": [
      "Resulting list of 2-tuples: [(34587, 163.8), (98762, 284.0), (77226, 88.85000000000001), (88112, 64.97)]\n"
     ]
    }
   ],
   "source": [
    "orders = [\n",
    "    (34587, \"Learning Python, Mark Lutz\", 4, 40.95),\n",
    "    (98762, \"Programming Python, Mark Lutz\", 5, 56.80),\n",
    "    (77226, \"Head First Python, Paul Barry\", 3, 32.95),\n",
    "    (88112, \"Einführung in Python3, Bernd Klein\", 3, 24.99)\n",
    "]\n",
    "cale_product = lambda order: (order[0], (order[2] * order[3]) - 10 if (order[2] * order[3]) < 100 else (order[2] * order[3]))\n",
    "result = list(map(calculate_product, orders))\n",
    "print(\"Resulting list of 2-tuples:\", result)\n"
   ]
  },
  {
   "cell_type": "code",
   "execution_count": null,
   "id": "5836d0a9",
   "metadata": {},
   "outputs": [],
   "source": []
  }
 ],
 "metadata": {
  "kernelspec": {
   "display_name": "Python 3 (ipykernel)",
   "language": "python",
   "name": "python3"
  },
  "language_info": {
   "codemirror_mode": {
    "name": "ipython",
    "version": 3
   },
   "file_extension": ".py",
   "mimetype": "text/x-python",
   "name": "python",
   "nbconvert_exporter": "python",
   "pygments_lexer": "ipython3",
   "version": "3.10.9"
  }
 },
 "nbformat": 4,
 "nbformat_minor": 5
}
